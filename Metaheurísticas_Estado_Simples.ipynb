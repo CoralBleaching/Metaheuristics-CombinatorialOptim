{
  "nbformat": 4,
  "nbformat_minor": 0,
  "metadata": {
    "colab": {
      "provenance": [],
      "authorship_tag": "ABX9TyPF5PUuqLtktHTAiymg0mSP",
      "include_colab_link": true
    },
    "kernelspec": {
      "name": "python3",
      "display_name": "Python 3"
    },
    "language_info": {
      "name": "python"
    }
  },
  "cells": [
    {
      "cell_type": "markdown",
      "metadata": {
        "id": "view-in-github",
        "colab_type": "text"
      },
      "source": [
        "<a href=\"https://colab.research.google.com/github/cdiegor/Metaheuristicas/blob/main/Metaheur%C3%ADsticas_Estado_Simples.ipynb\" target=\"_parent\"><img src=\"https://colab.research.google.com/assets/colab-badge.svg\" alt=\"Open In Colab\"/></a>"
      ]
    },
    {
      "cell_type": "markdown",
      "source": [
        "## Introdução\n",
        "\n",
        "Este é um conjunto de notas de aula para um curso de  graduação sobre metaheurísticas e otimização combinatória. \n",
        "\n",
        "A primeira versão das notas foi escrita em 2023 quando ministrei este curso pela primeira vez. Procuramos trazer descrições de algoritmos e explicações intuitivas sobre os assuntos nesta área. Estas notas servem como um complemento a um livro didático e os exercícios como um guia de aplicação de metaheurísticas."
      ],
      "metadata": {
        "id": "R_GgxI0oaxEp"
      }
    },
    {
      "cell_type": "markdown",
      "source": [
        "### O que é uma metaheurística?\n",
        "\n",
        "Metaheurística é um termo um tanto infeliz frequentemente usado para descrever um subcampo importante, na verdade o subcampo primário, de otimização estocástica. A otimização estocástica é a classe geral de algoritmos e técnicas que empregam algum grau de aleatoriedade para encontrar ótimo (ou tão ótimo quanto possível) soluções para problemas difíceis. As metaheurísticas são as mais gerais desses tipos de algoritmos, e são aplicados a uma ampla gama de problemas.\n",
        "\n",
        "Que tipos de problemas? Em Jacobellis v. Ohio (1964, sobre obscenidade), os Estados Unidos\n",
        "O juiz da Suprema Corte, Potter Stewart, escreveu uma frase famosa:\n",
        "\n",
        "*Não tentarei hoje mais definir os tipos de material que entendo serem adotados dentro dessa descrição abreviada; e talvez eu nunca conseguisse fazê-lo de forma inteligível. Mas eu reconheço quando vejo, e o filme envolvido neste caso não é esse.*\n",
        "\n",
        "As metaheurísticas são aplicadas a problemas do tipo *sei quando vejo*. São algoritmos usados para encontrar respostas para problemas quando você tem muito pouco para ajudá-lo: você não sabe de antemão o que solução ótima parece, você não sabe como encontrá-la de uma maneira baseada em princípios, você\n",
        "têm muito pouca informação heurística para continuar, e a busca de força bruta está fora de questão porque\n",
        "o espaço é muito grande. Mas se você receber uma solução candidata para o seu problema, poderá testá-la e avaliar o quão boa é. Ou seja, você reconhece uma boa solução quando a vê.\n",
        "\n",
        "Por exemplo: imagine se você está tentando encontrar um conjunto ideal de comportamentos de robôs para uma partida de futebol. Você tem um simulador para o robô e pode testar qualquer conjunto de comportamentos do robô e atribuir-lhe uma qualidade (você reconhece uma boa qualidade quando a vê). E você achou uma definição para saber como os conjuntos de comportamento do robô se parecem em geral. Mas você não tem ideia de qual é o comportamento ideal, nem mesmo como proceder para encontrá-lo.\n",
        "\n",
        "A coisa mais simples que você pode fazer nessa situação é a **busca aleatória**: apenas tente o comportamento aleatório enquanto você tiver tempo e guarde o melhor que você descobriu. Mas antes de desistir e começar a fazer busca aleatória, considere a seguinte alternativa, conhecida como **subida da colina**. Começar com um comportamento aleatório. Em seguida, faça uma pequena modificação aleatória e experimente a nova versão. Se a nova versão é melhor, jogue a antiga fora. Caso contrário, jogue a nova versão fora. Agora faça outra modificação pequena e aleatória em sua versão atual (qualquer uma que você não jogou fora). Se esta versão mais recente for melhor, jogue fora sua versão atual, caso contrário, jogue fora a versão mais recente. Repita o máximo que puder.\n",
        "\n",
        "**Subida da colina** é um algoritmo metaheurístico simples. Ele explora uma crença heurística sobre o seu espaço de soluções candidatas, o que geralmente é verdade para muitos problemas: que soluções semelhantes tendem a se comportar de maneira semelhante (e tendem a ter qualidade semelhante), então pequenas modificações geralmente resultarão\n",
        "em pequenas e bem comportadas mudanças de qualidade, permitindo-nos “subir o morro” da qualidade até boas\n",
        "soluções. Essa crença heurística é uma das características definidoras centrais das metaheurísticas: de fato, quase todas as metaheurísticas são essencialmente combinações elaboradas de escalada e busca aleatória.\n",
        "\n",
        "Os problemas “eu reconheço quando vejo” enfrentados por metaheurísticas são uma subclasse de **problemas inversos**. Um problema inverso é aquele em que você tem uma função de teste $f$ que leva uma solução candidata e produz uma avaliação da mesma, mas em que é difícil ou impossível construir a função inversa $f^{-1}$ que faz uma avaliação e retorna uma solução candidata que tenha essa avaliação. Em nosso exemplo, nosso simulador de robô e procedimento de teste é $f$. Mas o que realmente queremos é uma função inversa $f^{-1}$ que faz uma avaliação e retorna um comportamento de robô. Dessa forma, se tivéssemos sorte, poderíamos inserir o valor de avaliação ideal em $f^{-1}$ e obter o comportamento ideal do robô.\n",
        "\n",
        "Os métodos de otimização (como a meteurística) são projetados para superar problemas inversos. Mas\n",
        "muitas técnicas clássicas de otimização, como **subida do gradiente** fazem fortes suposições\n",
        "sobre a natureza de f : por exemplo, que também conhecemos sua primeira derivada $f'$. Metaheurísticas\n",
        "fazem suposições muito mais fracas e, às vezes, não fazem nenhuma. Isso significa que as metaheurísticas são muito gerais, mas também significa que geralmente são considerados métodos de última hora, usados quando\n",
        "nenhuma outra técnica conhecida funciona. Acontece que é o caso de uma enorme, importante e crescente coleção de problemas."
      ],
      "metadata": {
        "id": "lN9u5gI143er"
      }
    },
    {
      "cell_type": "markdown",
      "source": [
        "### Notação"
      ],
      "metadata": {
        "id": "cqkdL3Yu8D2f"
      }
    },
    {
      "cell_type": "markdown",
      "source": [
        "## Otimização clássica"
      ],
      "metadata": {
        "id": "GZiDnk5Jaz7Y"
      }
    },
    {
      "cell_type": "markdown",
      "source": [
        "### Subida do gradiente"
      ],
      "metadata": {
        "id": "i_RD0Gtobe7e"
      }
    },
    {
      "cell_type": "code",
      "source": [
        "#TO DO Subida do gradiente"
      ],
      "metadata": {
        "id": "zyI3WYt4rwPt"
      },
      "execution_count": null,
      "outputs": []
    },
    {
      "cell_type": "markdown",
      "source": [
        "### Método de Newton"
      ],
      "metadata": {
        "id": "SFGkegV1bXXn"
      }
    },
    {
      "cell_type": "code",
      "source": [
        "#TO DO Método de Newton"
      ],
      "metadata": {
        "id": "UN5VQDV1rquX"
      },
      "execution_count": null,
      "outputs": []
    },
    {
      "cell_type": "markdown",
      "source": [
        "### Subida do gradiente com reinicialização"
      ],
      "metadata": {
        "id": "t8kWhlrGbaOI"
      }
    },
    {
      "cell_type": "markdown",
      "source": [
        "## Metaheurísticas de trajetória\n",
        "\n",
        "A otimização baseada em gradiente faz uma grande suposição: que você pode calcular a primeira (ou mesmo a segunda) derivada. Essa é uma grande suposição. Se você está otimizando uma função matemática bem formada, bem estudada, é razoável. Mas na maioria dos casos, você não pode calcular o gradiente do função porque você nem sabe qual é a função. Tudo o que você tem é uma maneira de criar ou modificar entradas para a função, testando-as e avaliando sua qualidade.\n",
        "\n",
        "Por exemplo, imagine que você tenha um simulador de robô humanóide e esteja tentando encontrar um loop ideal de operações cronometradas para manter o robô avançando sem cair. Você tem algumas $n$ operações diferentes, e suas soluções candidatas são strings de tamanho arbitrário dessas operações. Você pode conectar uma string no simulador e obter uma qualidade (até onde o robô se moveu para a frente antes de cair). Como encontrar uma boa solução?\n",
        "\n",
        "Tudo o que você recebe é uma caixa preta (neste caso, o simulador de robô) descrevendo um problema que você gostaria de otimizar. A caixa tem um dispositivo onde você pode enviar uma solução candidata para o problema (aqui, uma sequência de operações cronometradas do robô). Então você pressiona o grande botão vermelho e sai a qualidade avaliada dessa solução candidata. Você não tem ideia de que tipo de superfície a qualidade função de avaliação parece quando plotada. Sua solução candidata nem precisa ser uma vetor de números: pode ser uma estrutura de grafo, ou uma árvore, ou um conjunto de regras, ou uma string de operações do robô! O que for apropriado para o problema.\n",
        "\n",
        "Para otimizar uma solução candidata neste cenário você precisa ser capaz de fazer três coisas:\n",
        "\n",
        "1.   Dar uma ou mais soluções candidatas iniciais. Este é chamado de **procedimento de inicialização**.\n",
        "2.   Atestar a qualidade de uma solução candidata. Este é chamado de **procedimento de avaliação**.\n",
        "3.   Copiar e modificar uma solução candidata, produzindo uma nova solução, ligeiramente e aleatoriamente diferente. Este é chamado de **procedimento de modificação**. \n",
        "\n",
        "Para isso, o algoritmo normalmente fornecerá um **procedimento de seleção** que decide quais soluções candidatas a reter e quais a rejeitar enquanto vagueia pelo espaço de soluções possíveis para o problema.\n",
        "\n"
      ],
      "metadata": {
        "id": "qDhVKSOUbqm5"
      }
    },
    {
      "cell_type": "markdown",
      "source": [
        "### Subida da colina\n",
        "\n",
        "Vamos começar com uma técnica simples, **subida na colina** (*Hill-Climbing*). Esta técnica está relacionada com a subida do gradiente, mas não requer que você conheça a força do gradiente ou mesmo sua direção: você apenas testa iterativamente novas soluções candidatas na região de sua candidata atual e adota novas soluções se forem melhores. Isso permite que você suba a colina até atingir um **ótimo local**."
      ],
      "metadata": {
        "id": "8fXwx9UVa5Sp"
      }
    },
    {
      "cell_type": "code",
      "source": [
        "#TO DO: Hill-Climbing"
      ],
      "metadata": {
        "id": "uano_M5g-Fz-"
      },
      "execution_count": null,
      "outputs": []
    },
    {
      "cell_type": "markdown",
      "source": [
        "Observe a forte semelhança entre a **subida da colina** e a **subida do gradiente**. A única real diferença é que a operação ```modificar``` é mais geral e deve contar com uma abordagem estocástica (parcialmente aleatória) para procurar soluções candidatas melhores. Às vezes encontra piores por perto, às vezes encontra melhores.\n",
        "\n",
        "Podemos tornar esse algoritmo um pouco mais agressivo: criar uma série de “ajustes”, também conhecida como **vizinhança** para uma solução candidata todas de uma vez e, possivelmente, adotar a melhor. Este algoritmo modificado é chamado **subida da colina de máxima inclinação** (*Steepest\n",
        "Ascent Hill-Climbing*), porque ao amostrar uma vizinhança em torno de uma solução candidata original e, em seguida, escolher a melhor, estamos essencialmente *amostrando* o gradiente e marchando direto para cima."
      ],
      "metadata": {
        "id": "dk9hmnuC-I8S"
      }
    },
    {
      "cell_type": "code",
      "source": [
        "#TO DO: Steepest Ascent Hill-Climbing"
      ],
      "metadata": {
        "id": "2yIoPDn-_Ybw"
      },
      "execution_count": null,
      "outputs": []
    },
    {
      "cell_type": "markdown",
      "source": [
        "### Representando soluções\n",
        "\n",
        "A inicialização, a cópia, o ajuste e (em menor grau) as funções de avaliação de qualidade coletivamente\n",
        "definem a representação de sua solução candidata. Juntos, eles estipulam do que sua solução candidata  é composta e como ela opera.\n",
        "\n",
        "\n",
        "Como pode ser uma solução candidata? Pode ser um vetor; ou uma lista de tamanho arbitrário; ou um conjunto ou coleção desordenada de objetos; ou uma árvore; ou um grafo. Ou qualquer combinação desses objetos matemáticos. O que parecer apropriado para o seu problema. Se você pode criar as quatro funções acima de uma forma razoável, você está no caminho certo.\n",
        "\n",
        "\n",
        "Uma representação simples e comum para soluções candidatas, à qual vamos nos ater por enquanto, é a mesma usada nos métodos de gradiente: um vetor de comprimento fixo de números de valor real. Criar um vetor aleatório é fácil: basta escolher números aleatórios dentro dos limites escolhidos. Se os limites são min e max inclusive, e o comprimento do vetor é l, poderíamos fazer isso:\n",
        "\n"
      ],
      "metadata": {
        "id": "OzV-5SsS_l21"
      }
    },
    {
      "cell_type": "code",
      "source": [
        "# TO DO Gerar um vetor de valores reais"
      ],
      "metadata": {
        "id": "ptt16hiudAnc"
      },
      "execution_count": null,
      "outputs": []
    },
    {
      "cell_type": "markdown",
      "source": [
        "Para ajustar um vetor, podemos (como uma das muitas possibilidades) adicionar uma pequena quantidade de ruído para cada número: de acordo com nossa definição atual de ```modificar```, vamos assumir por agora que\n",
        "este ruído não é maior do que um valor pequeno. Aqui está uma maneira simples de adicionar um ruído aleatório limitado, uniformemente distribuído a um vetor. Para cada posição no vetor, com alguma probabilidade $p$, geramos um ruído aleatório uniforme limitado para adicionar ao número naquela posição. Na maioria casos mantemos p = 1."
      ],
      "metadata": {
        "id": "oXZM46EKdH3F"
      }
    },
    {
      "cell_type": "code",
      "source": [
        "#TO DO Convolução uniforme limitada"
      ],
      "metadata": {
        "id": "7dLdYpCXeIyo"
      },
      "execution_count": null,
      "outputs": []
    },
    {
      "cell_type": "markdown",
      "source": [
        "Agora temos um botão que podemos girar: $r$, o tamanho do limite na modificação. Se o tamanho for muito pequeno, então a **subina da colina** irá marchar até uma colina local e será incapaz de pular para a próxima colina porque o limite é muito pequeno para saltar tão longe. Uma vez que está no topo de uma colina, em todos os lugares o salto será pior do que onde está atualmente, então ele permanece parado. Além disso, a taxa na qual ele sobe a colina será delimitada por seu pequeno tamanho. Por outro lado, se o tamanho for grande, então a **subida da colina**\n",
        "vai rolar muito. É importante ressaltar que quando estiver próximo ao topo de um morro, terá dificuldade de convergir para o pico, pois a maioria de seus movimentos será tão grande que ultrapassará o pico.\n",
        "\n",
        "Assim, tamanhos pequenos do limite se movem lentamente e são capturados em ótimos locais; e com tamanhos grandes o algoritmo salta muito freneticamente e não pode convergir rapidamente para atingir o topo dos picos. Observe como isso é semelhante ao usado na **subida do gradiente**. Este botão é uma forma de controlar o grau de **Intensificação** *versus* **Diversificação** na nossa **subida**. Algoritmos de otimização que\n",
        "fazem melhorias em grande parte locais estão *intensificando* o gradiente local, e os algoritmos que principalmente vagueiam aleatoriamente são pensados para *diversificar* o espaço. Como regra geral: você gostaria de usar um algoritmo altamente *intenso* (é mais rápido), mas quanto mais “feio” o espaço, mais você não terá escolha senão usar um algoritmo mais *diverso*."
      ],
      "metadata": {
        "id": "syRrcXDSeVF4"
      }
    },
    {
      "cell_type": "markdown",
      "source": [
        "### Busca aleatória\n",
        "\n",
        "Um **algoritmo de otimização global** é aquele que, se o executarmos por tempo suficiente, acabará por encontrar o ótimo global. Quase sempre, a forma como isso é feito é garantindo que, no limite, cada\n",
        "local no espaço de busca será visitado. Os algoritmos de estado único que vimos até agora não podem\n",
        "garantir isso. Isso se deve à nossa definição (no momento) de ```modificar```: “fazer uma mudança pequena, limitada, mas aleatória”. ```modificar``` nunca faria grandes mudanças. Se estamos presos em um\n",
        "ótimo local suficientemente amplo, ```modificar``` pode não ser forte o suficiente para nos tirar dele. Assim, os algoritmos até agora têm sido algoritmos de otimização local.\n",
        "\n",
        "Existem muitas maneiras de construir um algoritmo de otimização global. Vamos começar com o mais simples possível: **Busca Aleatória**."
      ],
      "metadata": {
        "id": "gjPPTc3Ea-sB"
      }
    },
    {
      "cell_type": "code",
      "source": [
        "#TO DO Busca Aleatória"
      ],
      "metadata": {
        "id": "1GtpHxSOerbg"
      },
      "execution_count": null,
      "outputs": []
    },
    {
      "cell_type": "markdown",
      "source": [
        "### Combinando intensificação e diversificação"
      ],
      "metadata": {
        "id": "cyoFcMnebvvc"
      }
    },
    {
      "cell_type": "markdown",
      "source": [
        "Random Search é o extremo em **diversificação** (e *otimização global*); em contraste a **subida da colina** com ```modificar``` definido para fazer apenas mudanças muito pequenas e nunca grandes,\n",
        "pode ser visto como o extremo em **intensificação** (e *otimização local*). Mas há maneiras de conseguir\n",
        "intensificação razoável e ainda ter um algoritmo global. Considere a seguinte técnica popular,\n",
        "chamado **Subida da Colina com Reinício Aleatório**, a meio caminho entre os dois. Fazemos montanhismo para\n",
        "uma certa quantidade aleatória de tempo. Então, quando o tempo acabar, recomeçamos com um novo local aleatório e fazemos a **subida da colina** novamente por um período de tempo aleatório diferente."
      ],
      "metadata": {
        "id": "p5VnPpzoezi5"
      }
    },
    {
      "cell_type": "code",
      "source": [
        "#TO DO Subida da Colina com Reinício Aleatório"
      ],
      "metadata": {
        "id": "m6ZZBujZfkNd"
      },
      "execution_count": null,
      "outputs": []
    },
    {
      "cell_type": "markdown",
      "source": [
        "Se os intervalos de tempo escolhidos aleatoriamente são geralmente extremamente longos, esse algoritmo é basicamente um grande montanhista. Da mesma forma, se os intervalos forem muito curtos, estamos basicamente fazendo uma pesquisa aleatória (redefinindo para novos locais aleatórios a cada vez). Comprimentos de intervalo moderados variam entre os dois. Isso é bom, certo?\n",
        "\n",
        "Depende. Considere a figura abaixo. A primeira figura, denominada *Unimodal*, é uma situação em que a **subida da colina** está próxima do ideal e onde a pesquisa aleatória é uma escolha muito ruim. Mas para a figura rotulada como *Noisy*, a **subida da colina** é muito ruim; e, de fato, espera-se que a Pesquisa aleatória seja tão boa quanto você pode fazer (sem saber nada sobre as funções de antemão). A diferença é que no *Unimodal* existe uma forte relação entre a distância (ao longo do eixo x) de duas\n",
        "soluções candidatas e sua relação em qualidade: soluções semelhantes são geralmente semelhantes em\n",
        "qualidade e soluções diferentes não têm nenhuma relação entre si. Na situação *Noisy*, não há nenhuma relação como esta: mesmo soluções semelhantes são muito diferentes em qualidade. Isso é frequentemente conhecido como critério de suavidade para que a busca local seja efetiva.\n",
        "\n"
      ],
      "metadata": {
        "id": "Oe4R5vWMfsy5"
      }
    },
    {
      "cell_type": "markdown",
      "source": [
        "![quality-examples.png](data:image/png;base64,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)"
      ],
      "metadata": {
        "id": "IgH_qEgrgpCs"
      }
    },
    {
      "cell_type": "markdown",
      "source": [
        "Isso não é suficiente. Considere a figura intitulada *Needle in a Haystack*, para a qual a **busca aleatória** é o único caminho real a percorrer, e a **subida da colina** é bastante ruim. Qual é a diferença entre isso e *Unimodal*? Afinal, *Needle in a Haystack* é bastante suave. Para que a pesquisa local seja eficaz deve haver um gradiente informativo que geralmente conduza às melhores soluções. Na verdade, você pode fazer gradientes altamente não informativos para os quais a **subida da colina** é espetacularmente ruim! Na figura rotulada *Deceptive*, a **subida da colina** não só não encontrará facilmente o ótimo, mas irá ativamente\n",
        "se distanciar do ideal.\n",
        "\n",
        "Portanto, existem alguns tipos de problemas em que fazer pequenas mudanças locais gananciosas funciona melhor; e outros problemas em que fazer alterações grandes e quase aleatórias é melhor. Algoritmos de pesquisa global têm o desafio de equilibrar esta batalha: **Intensificação** versus **Diversificação**. "
      ],
      "metadata": {
        "id": "Bqaj_gLkgpzP"
      }
    },
    {
      "cell_type": "markdown",
      "source": [
        "### Recozimento simulado\n",
        "\n",
        "**Recozimento simulado** foi desenvolvido por vários pesquisadores em meados da década de 1980, mas tem uma famosa linhagem, sendo derivada do **Algoritmo Metropolis**, desenvolvido pelos ex-cientistas do Manhattan Project, Nicholas Metropolis, Arianna e Marshall Rosenbluth, e Augusta e Edward Teller\n",
        "em 1953. O algoritmo varia da **subida da colina** em sua decisão de quando substituir $S$, a solução candidata original, com $R$, sua filha recém-ajustada. Especificamente: se $R$ é melhor que\n",
        "$S$, sempre substituiremos $S$ por $R$ como de costume. Mas se $R$ for pior que $S$, ainda podemos substituir $S$ por $R$\n",
        "com uma certa probabilidade $P(t, R, S)$:\n",
        "\n",
        "> $P(t, R, S) = e^\\frac{Q(R) - Q(S)}{t}$\n",
        "\n",
        "onde $t \\geq 0$ é uma grandeza própria do algoritmo chamada temperatura. Ou seja, o algoritmo às vezes desce morros. Esta equação é interessante em dois\n",
        "sentidos. Observe que a fração é negativa porque $R$ é pior que $S$. Primeiro, se $R$ for muito pior que $S$, a fração é maior e, portanto, a probabilidade é próxima de $0$. Se $R$ estiver muito próxima de $S$, a probabilidade é perto de 1. Portanto, se $R$ não for muito pior que $S$, ainda selecionaremos $R$ com uma probabilidade razoável.\n",
        "\n",
        "Em segundo lugar, temos um parâmetro ajustável $t$. Se $t$ estiver próximo de $0$, a fração é novamente um número grande, e assim a probabilidade é próxima de $0$. Se $t$ for alto, a probabilidade é próxima de $1$. A ideia é definir inicialmente $t$ para um número alto, o que faz com que o algoritmo se mova para cada solução recém-criada independentemente\n",
        "de sua qualidade. Estamos fazendo uma espécie de  **caminhada aleatória** no espaço. Então $t$ diminui lentamente, eventualmente para $0$, ponto em que o algoritmo não está fazendo nada além de uma simples **subida na colina**."
      ],
      "metadata": {
        "id": "uZuCDXN2bFg4"
      }
    },
    {
      "cell_type": "code",
      "source": [
        "#TO DO Recozimento Simulado"
      ],
      "metadata": {
        "id": "k_xreouQkYJn"
      },
      "execution_count": null,
      "outputs": []
    },
    {
      "cell_type": "markdown",
      "source": [
        "Recozimento Simulado recebe o nome do processo de  recozimento que é o resfriamento de metal fundido. Se o metal esfria rapidamente, seus átomos não têm chance de se acomodar em uma rede compacta e são congelados em uma configuração aleatória, resultando em metal frágil. Se diminuirmos a temperatura muito lentamente, os átomos têm tempo suficiente para se estabelecerem em um cristal forte. Daí o significado da temperatura para o parâmetro $t$."
      ],
      "metadata": {
        "id": "thuTVhrVkcIf"
      }
    },
    {
      "cell_type": "markdown",
      "source": [
        "### Busca Tabu\n",
        "\n",
        "A **Busca Tabu**, de Fred Glover, emprega uma abordagem diferente para fazer a diversificação: ela  mantém um histórico de soluções candidatas recentemente consideradas (conhecidas como lista tabu) e se recusa a retornar a essas soluções candidatas até que estejam suficientemente longe no passado. Assim, se subirmos uma colina,\n",
        "não temos escolha a não ser vagar de volta para o outro lado porque não temos permissão para ficar ou\n",
        "voltar ao topo da colina.\n",
        "\n",
        "A abordagem mais simples para a Busca Tabu é manter uma lista tabu $L$, de comprimento máximo $l$,\n",
        "de soluções candidatas que vimos até agora. Sempre que adotamos uma nova solução candidata, ela vai\n",
        "na lista tabu. Se a lista tabu for muito grande, removemos a solução candidata mais antiga e ela deixa de ser tabu para reconsiderar. A pesquisa tabu geralmente é implementada como uma variação da **máxima inclinação**. Na versão abaixo, geramos uma vizinhança de soluções descendentes ajustadas, mas consideramos apenas aquelas que não são tabu atualmente.\n"
      ],
      "metadata": {
        "id": "NdTahvwfbIqR"
      }
    },
    {
      "cell_type": "code",
      "source": [
        "#TO DO Busca Tabu"
      ],
      "metadata": {
        "id": "pj_MiVtXlvHP"
      },
      "execution_count": null,
      "outputs": []
    },
    {
      "cell_type": "markdown",
      "source": [
        "A **busca tabu** realmente funciona apenas em espaços discretos. E se o seu espaço de pesquisa for de números reais? Somente em situações verdadeiramente excepcionais você visitará o mesmo ponto de valor real no espaço duas vezes, tornando a lista tabu inútil. Nesta situação, uma abordagem é considerar uma solução para ser membro de uma lista se for “suficientemente semelhante” a um membro existente da lista. A medida de semelhança ou distância dependerá do desenvolvedor do algoritmo.\n",
        "\n",
        "Mesmo assim, o grande problema da **busca tabu** é que se o seu espaço de busca for muito grande, e\n",
        "principalmente se for de alta dimensionalidade, é fácil ficar na mesma vizinhança, de fato na mesma colina, mesmo que você tenha uma lista tabu muito grande. Pode haver muitos locais. Uma abordagem alternativa é criar uma lista tabu não de soluções candidatas que você considerou antes, mas das alterações feitas recentemente em determinados recursos. Por exemplo, imagine se você está encontrando uma solução a um problema de grafo como o Problema do Caixeiro Viajante. Você ajusta uma solução candidata para criar uma nova, excluindo a aresta A e adicionando arestas B e C, e decide adotar\n",
        "a nova solução. Em vez de colocar a solução na lista tabu, você coloca as alterações feitas na lista. A, B e C vão para a lista. Agora, por um tempo, enquanto você está pensando em novos ajustes, você não tem permissão para sequer considerar adicionar ou excluir A, B ou C. Eles são um tabu por enquanto.\n",
        "\n"
      ],
      "metadata": {
        "id": "L4mvMIpOlyFq"
      }
    },
    {
      "cell_type": "code",
      "source": [
        "#TO DO Busca Tabu com proibição de características"
      ],
      "metadata": {
        "id": "V9iFV6UMnNcG"
      },
      "execution_count": null,
      "outputs": []
    },
    {
      "cell_type": "markdown",
      "source": [
        "\n",
        "\n",
        "Talvez para implementar isso, a grande mudança que precisaremos fazer é na natureza da fila que atua como nossa lista tabu. A fila não pode mais ser uma simples fila primeiro a entrar, primeiro a sair porque pode haver um número variável de coisas que entrarão na fila a qualquer momento. Em vez disso, vamos implementá-la como um conjunto de tuplas $(X, d)$ onde $X$ é um recurso que alteramos (por exemplo, uma aresta no grafo) e $d$ é o carimbo de data/hora de quando fizemos a troca. Além disso, não podemos mais simplesmente testar a associação na fila. Em vez disso, teremos que entregar a fila para a operação ```modificar```, para que ela saiba quais alterações não é permitido fazer. Por isso nossa versão revisada: Tweak(Copy(...), L). Eu chamo o novo algoritmo de Pesquisa Tabu baseada em recursos."
      ],
      "metadata": {
        "id": "VikBxX7enSfJ"
      }
    },
    {
      "cell_type": "markdown",
      "source": [
        "### Busca local iterada\n",
        "\n",
        "Este é o nome atual de um conceito que existe, sob muitas formas, desde pelo menos o 1980s. É essencialmente uma versão mais inteligente da **subida da colina com reinício aleatório**. Assumindo que você dá tempo suficiente entre as reinicializações, sempre que você faz uma reinicialização aleatória, você sopra o alpinista para algum (possivelmente novo) ótimo local. Assim, podemos pensar em **subida da colina com reinício aleatório** fazendo uma espécie de busca aleatória através do espaço de ótimos locais. Encontramos um local aleatório ótimo, depois outro, depois outro e assim por diante, e eventualmente retornamos o melhor ótimo que já descoberto (idealmente, é um ótimo global!)\n",
        "\n",
        "A **Busca Local Iterada** (em inglês *Iterated Local Search* ou ILS) tenta pesquisar neste espaço de ótimos locais de uma forma mais inteligente: tenta escalar estocasticamente no espaço de ótimos locais. Ou seja, a **ILS** encontra um ótimo local, então procura por um ótimo local “próximo” e possivelmente adota este novo ótimo local como referência em seu lugar , então encontra um novo ótimo local “próximo” e assim por diante. A heurística aqui é que muitas vezes você pode encontrar melhores ótimos locais perto daquele em que você está atualmente, e caminhando de ótimo local para ótimo local dessa maneira muitas vezes supera apenas a tentativa de novos locais totalmente aleatórios.\n",
        "\n",
        "A **ILS** consegue isso com dois truques. Primeiro, a **ILS** não escolhe novos locais de reinicialização totalmente ao acaso. Em vez disso, ela mantém uma espécie de local ideal de “base inicial” e seleciona novos locais de reinicialização que estão um pouco, embora não excessivamente, nas proximidades do ótimo local da “base inicial”. Nós queremos reiniciar longe o suficiente de nossa base atual para terminar em um novo ótimo local, mas não tanto a ponto de escolher novos locais de reinicialização essencialmente ao acaso. Queremos estar fazendo uma *caminhada* em vez de uma *busca* aleatória. Em segundo lugar, quando a **ILS** descobre um novo ótimo local, ela decide se deve manter o ótimo local atual como “base” ou adotar o novo ótimo local como a “base”. Se nós sempre escolhermos o novo ótimo local, estamos fazendo uma caminhada aleatória (uma espécie de meta-diversificação). Se nós escolhermos o novo ótimo local apenas se for melhor do que o atual, estamos fazendo uma escalada (uma espécie de meta-intensificação). A **ILS** geralmente escolhe algo entre os dois, conforme discutido posteriormente.\n",
        "\n",
        "Se você abstrair esses dois truques, a **ILS** é muito simples. A única complexidade está em determinar\n",
        "quando um ótimo local é descoberto. Como isso costuma ser difícil, em vez disso, empregaremos a mesma abordagem aqui usada em reinicializações aleatórias: definir um cronômetro. Suba a colina por um tempo e depois quando o cronômetro desliga, é hora de reiniciar. Isso obviamente não garante que encontramos o ótimo local durante a escalada, mas se o cronômetro for longo o suficiente, é provável que estejamos nas proximidades. O algoritmo é muito direto: faça uma escalada por um tempo; então (quando o tempo acabar) determinar se deve adotar o possível ótimo local recém-descoberto ou manter a “base” (a função ```muda_base```); então, de nossa nova base, faça uma grande modificação (a função ```perturbar```, que é idealmente suficiente para provavelmente pular para uma nova colina.\n"
      ],
      "metadata": {
        "id": "3rxb6D6ObM1h"
      }
    },
    {
      "cell_type": "code",
      "source": [
        "#TO DO Busca Local Iterada"
      ],
      "metadata": {
        "id": "XOjYHNcwngO6"
      },
      "execution_count": null,
      "outputs": []
    },
    {
      "cell_type": "markdown",
      "source": [
        "Muito do pensamento por trás das escolhas das funções ```perturbar``` e ```muda_base``` é uma arte secreta, determinada em grande parte pela natureza do problema específico que está sendo enfrentado. Aqui estão algumas dicas.\n",
        "\n",
        "O objetivo da função ```perturbar``` é fazer uma modificação muito grande, grande o suficiente para provavelmente escapar do ótimo local atual, mas não tão grande a ponto de ser essencialmente uma randomização. Lembre-se que nós gostaríamos de cair em uma colina próxima. O significado de “grande o suficiente” varia muito de problema para problema.\n",
        "\n",
        "O objetivo da função ```muda_base``` é escolher de forma inteligente novos locais de partida. Assim como algoritmos de otimização global, em geral, estão entre os extremos da diversificação (**busca aleatória** e **caminhada aleatória**) e intensificação (**subida da colina**), a função  ```muda_base``` deve estar em algum lugar entre esses extremos ao escolher entre ótimos locais. Em um extremo, o algoritmo poderia sempre adotar o novo ótimo local, ou seja,\n",
        "\n",
        "> ```nova_base(B, S):```\n",
        "> > ```return S```\n",
        "\n",
        "Isso resulta essencialmente em uma caminhada aleatória de um ótimo local para um ótimo local. No outro extremo, o algoritmo só poderia usar o novo ótimo local se fosse de qualidade igual ou superior à\n",
        "o velho, ou seja,\n",
        "\n",
        "> ```nova_base(B, S):```\n",
        "> > ```if Q(S) > Q(B): return S```\n",
        "> > ```else: return B```\n",
        "\n",
        "Isso resulta, mais ou menos, numa espécie de subida da colina entre os ótimos locais. A maioria das heurísticas **ILS** tenta encontrar um meio-termo entre os dois. Por exemplo, o **ILS** pode subir uma colina, a menos que não tenha visto uma solução nova e melhor em um tempo, momento em que começa a fazer caminhadas aleatórias por um tempo. Existem outras opções, é claro: poderíamos aplicar uma abordagem de **recozimento simulado** para ```muda_base```, ou um tipo de procedimento de **busca tabu**."
      ],
      "metadata": {
        "id": "EGNPQGranj-V"
      }
    },
    {
      "cell_type": "markdown",
      "source": [
        "### Busca em vizinhança variável\n",
        "\n"
      ],
      "metadata": {
        "id": "JC-CVIvxngOh"
      }
    }
  ]
}